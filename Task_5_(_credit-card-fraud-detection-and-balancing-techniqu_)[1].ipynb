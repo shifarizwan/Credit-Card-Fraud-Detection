{
 "cells": [
  {
   "cell_type": "code",
   "execution_count": 1,
   "id": "a3c81a9c",
   "metadata": {
    "execution": {
     "iopub.execute_input": "2024-04-22T21:38:53.895667Z",
     "iopub.status.busy": "2024-04-22T21:38:53.895323Z",
     "iopub.status.idle": "2024-04-22T21:39:07.441088Z",
     "shell.execute_reply": "2024-04-22T21:39:07.440290Z"
    },
    "papermill": {
     "duration": 13.560417,
     "end_time": "2024-04-22T21:39:07.443589",
     "exception": false,
     "start_time": "2024-04-22T21:38:53.883172",
     "status": "completed"
    },
    "tags": []
   },
   "outputs": [
    {
     "name": "stderr",
     "output_type": "stream",
     "text": [
      "2024-04-22 21:38:56.287699: E external/local_xla/xla/stream_executor/cuda/cuda_dnn.cc:9261] Unable to register cuDNN factory: Attempting to register factory for plugin cuDNN when one has already been registered\n",
      "2024-04-22 21:38:56.287823: E external/local_xla/xla/stream_executor/cuda/cuda_fft.cc:607] Unable to register cuFFT factory: Attempting to register factory for plugin cuFFT when one has already been registered\n",
      "2024-04-22 21:38:56.413204: E external/local_xla/xla/stream_executor/cuda/cuda_blas.cc:1515] Unable to register cuBLAS factory: Attempting to register factory for plugin cuBLAS when one has already been registered\n"
     ]
    }
   ],
   "source": [
    "import numpy as np # linear algebra\n",
    "import pandas as pd # data processing, CSV file I/O (e.g. pd.read_csv)\n",
    "import tensorflow as tf\n",
    "import matplotlib.pyplot as plt\n",
    "import seaborn as sns\n",
    "from sklearn.manifold import TSNE\n",
    "from sklearn.decomposition import PCA, TruncatedSVD\n",
    "import matplotlib.patches as mpatches\n",
    "import time"
   ]
  },
  {
   "cell_type": "code",
   "execution_count": 2,
   "id": "e6cd87ea",
   "metadata": {
    "execution": {
     "iopub.execute_input": "2024-04-22T21:39:07.466613Z",
     "iopub.status.busy": "2024-04-22T21:39:07.466086Z",
     "iopub.status.idle": "2024-04-22T21:39:11.008239Z",
     "shell.execute_reply": "2024-04-22T21:39:11.007367Z"
    },
    "papermill": {
     "duration": 3.555622,
     "end_time": "2024-04-22T21:39:11.010289",
     "exception": false,
     "start_time": "2024-04-22T21:39:07.454667",
     "status": "completed"
    },
    "tags": []
   },
   "outputs": [
    {
     "data": {
      "text/html": [
       "<div>\n",
       "<style scoped>\n",
       "    .dataframe tbody tr th:only-of-type {\n",
       "        vertical-align: middle;\n",
       "    }\n",
       "\n",
       "    .dataframe tbody tr th {\n",
       "        vertical-align: top;\n",
       "    }\n",
       "\n",
       "    .dataframe thead th {\n",
       "        text-align: right;\n",
       "    }\n",
       "</style>\n",
       "<table border=\"1\" class=\"dataframe\">\n",
       "  <thead>\n",
       "    <tr style=\"text-align: right;\">\n",
       "      <th></th>\n",
       "      <th>Time</th>\n",
       "      <th>V1</th>\n",
       "      <th>V2</th>\n",
       "      <th>V3</th>\n",
       "      <th>V4</th>\n",
       "      <th>V5</th>\n",
       "      <th>V6</th>\n",
       "      <th>V7</th>\n",
       "      <th>V8</th>\n",
       "      <th>V9</th>\n",
       "      <th>...</th>\n",
       "      <th>V21</th>\n",
       "      <th>V22</th>\n",
       "      <th>V23</th>\n",
       "      <th>V24</th>\n",
       "      <th>V25</th>\n",
       "      <th>V26</th>\n",
       "      <th>V27</th>\n",
       "      <th>V28</th>\n",
       "      <th>Amount</th>\n",
       "      <th>Class</th>\n",
       "    </tr>\n",
       "  </thead>\n",
       "  <tbody>\n",
       "    <tr>\n",
       "      <th>0</th>\n",
       "      <td>0.0</td>\n",
       "      <td>-1.359807</td>\n",
       "      <td>-0.072781</td>\n",
       "      <td>2.536347</td>\n",
       "      <td>1.378155</td>\n",
       "      <td>-0.338321</td>\n",
       "      <td>0.462388</td>\n",
       "      <td>0.239599</td>\n",
       "      <td>0.098698</td>\n",
       "      <td>0.363787</td>\n",
       "      <td>...</td>\n",
       "      <td>-0.018307</td>\n",
       "      <td>0.277838</td>\n",
       "      <td>-0.110474</td>\n",
       "      <td>0.066928</td>\n",
       "      <td>0.128539</td>\n",
       "      <td>-0.189115</td>\n",
       "      <td>0.133558</td>\n",
       "      <td>-0.021053</td>\n",
       "      <td>149.62</td>\n",
       "      <td>0</td>\n",
       "    </tr>\n",
       "    <tr>\n",
       "      <th>1</th>\n",
       "      <td>0.0</td>\n",
       "      <td>1.191857</td>\n",
       "      <td>0.266151</td>\n",
       "      <td>0.166480</td>\n",
       "      <td>0.448154</td>\n",
       "      <td>0.060018</td>\n",
       "      <td>-0.082361</td>\n",
       "      <td>-0.078803</td>\n",
       "      <td>0.085102</td>\n",
       "      <td>-0.255425</td>\n",
       "      <td>...</td>\n",
       "      <td>-0.225775</td>\n",
       "      <td>-0.638672</td>\n",
       "      <td>0.101288</td>\n",
       "      <td>-0.339846</td>\n",
       "      <td>0.167170</td>\n",
       "      <td>0.125895</td>\n",
       "      <td>-0.008983</td>\n",
       "      <td>0.014724</td>\n",
       "      <td>2.69</td>\n",
       "      <td>0</td>\n",
       "    </tr>\n",
       "    <tr>\n",
       "      <th>2</th>\n",
       "      <td>1.0</td>\n",
       "      <td>-1.358354</td>\n",
       "      <td>-1.340163</td>\n",
       "      <td>1.773209</td>\n",
       "      <td>0.379780</td>\n",
       "      <td>-0.503198</td>\n",
       "      <td>1.800499</td>\n",
       "      <td>0.791461</td>\n",
       "      <td>0.247676</td>\n",
       "      <td>-1.514654</td>\n",
       "      <td>...</td>\n",
       "      <td>0.247998</td>\n",
       "      <td>0.771679</td>\n",
       "      <td>0.909412</td>\n",
       "      <td>-0.689281</td>\n",
       "      <td>-0.327642</td>\n",
       "      <td>-0.139097</td>\n",
       "      <td>-0.055353</td>\n",
       "      <td>-0.059752</td>\n",
       "      <td>378.66</td>\n",
       "      <td>0</td>\n",
       "    </tr>\n",
       "    <tr>\n",
       "      <th>3</th>\n",
       "      <td>1.0</td>\n",
       "      <td>-0.966272</td>\n",
       "      <td>-0.185226</td>\n",
       "      <td>1.792993</td>\n",
       "      <td>-0.863291</td>\n",
       "      <td>-0.010309</td>\n",
       "      <td>1.247203</td>\n",
       "      <td>0.237609</td>\n",
       "      <td>0.377436</td>\n",
       "      <td>-1.387024</td>\n",
       "      <td>...</td>\n",
       "      <td>-0.108300</td>\n",
       "      <td>0.005274</td>\n",
       "      <td>-0.190321</td>\n",
       "      <td>-1.175575</td>\n",
       "      <td>0.647376</td>\n",
       "      <td>-0.221929</td>\n",
       "      <td>0.062723</td>\n",
       "      <td>0.061458</td>\n",
       "      <td>123.50</td>\n",
       "      <td>0</td>\n",
       "    </tr>\n",
       "    <tr>\n",
       "      <th>4</th>\n",
       "      <td>2.0</td>\n",
       "      <td>-1.158233</td>\n",
       "      <td>0.877737</td>\n",
       "      <td>1.548718</td>\n",
       "      <td>0.403034</td>\n",
       "      <td>-0.407193</td>\n",
       "      <td>0.095921</td>\n",
       "      <td>0.592941</td>\n",
       "      <td>-0.270533</td>\n",
       "      <td>0.817739</td>\n",
       "      <td>...</td>\n",
       "      <td>-0.009431</td>\n",
       "      <td>0.798278</td>\n",
       "      <td>-0.137458</td>\n",
       "      <td>0.141267</td>\n",
       "      <td>-0.206010</td>\n",
       "      <td>0.502292</td>\n",
       "      <td>0.219422</td>\n",
       "      <td>0.215153</td>\n",
       "      <td>69.99</td>\n",
       "      <td>0</td>\n",
       "    </tr>\n",
       "  </tbody>\n",
       "</table>\n",
       "<p>5 rows × 31 columns</p>\n",
       "</div>"
      ],
      "text/plain": [
       "   Time        V1        V2        V3        V4        V5        V6        V7  \\\n",
       "0   0.0 -1.359807 -0.072781  2.536347  1.378155 -0.338321  0.462388  0.239599   \n",
       "1   0.0  1.191857  0.266151  0.166480  0.448154  0.060018 -0.082361 -0.078803   \n",
       "2   1.0 -1.358354 -1.340163  1.773209  0.379780 -0.503198  1.800499  0.791461   \n",
       "3   1.0 -0.966272 -0.185226  1.792993 -0.863291 -0.010309  1.247203  0.237609   \n",
       "4   2.0 -1.158233  0.877737  1.548718  0.403034 -0.407193  0.095921  0.592941   \n",
       "\n",
       "         V8        V9  ...       V21       V22       V23       V24       V25  \\\n",
       "0  0.098698  0.363787  ... -0.018307  0.277838 -0.110474  0.066928  0.128539   \n",
       "1  0.085102 -0.255425  ... -0.225775 -0.638672  0.101288 -0.339846  0.167170   \n",
       "2  0.247676 -1.514654  ...  0.247998  0.771679  0.909412 -0.689281 -0.327642   \n",
       "3  0.377436 -1.387024  ... -0.108300  0.005274 -0.190321 -1.175575  0.647376   \n",
       "4 -0.270533  0.817739  ... -0.009431  0.798278 -0.137458  0.141267 -0.206010   \n",
       "\n",
       "        V26       V27       V28  Amount  Class  \n",
       "0 -0.189115  0.133558 -0.021053  149.62      0  \n",
       "1  0.125895 -0.008983  0.014724    2.69      0  \n",
       "2 -0.139097 -0.055353 -0.059752  378.66      0  \n",
       "3 -0.221929  0.062723  0.061458  123.50      0  \n",
       "4  0.502292  0.219422  0.215153   69.99      0  \n",
       "\n",
       "[5 rows x 31 columns]"
      ]
     },
     "execution_count": 2,
     "metadata": {},
     "output_type": "execute_result"
    }
   ],
   "source": [
    "# Load the dataset\n",
    "df = pd.read_csv(\"/kaggle/input/creditcardfraud/creditcard.csv\")\n",
    "df.head()"
   ]
  },
  {
   "cell_type": "code",
   "execution_count": 3,
   "id": "bdbfb1dc",
   "metadata": {
    "execution": {
     "iopub.execute_input": "2024-04-22T21:39:11.034009Z",
     "iopub.status.busy": "2024-04-22T21:39:11.033367Z",
     "iopub.status.idle": "2024-04-22T21:39:11.429808Z",
     "shell.execute_reply": "2024-04-22T21:39:11.428920Z"
    },
    "papermill": {
     "duration": 0.410697,
     "end_time": "2024-04-22T21:39:11.432012",
     "exception": false,
     "start_time": "2024-04-22T21:39:11.021315",
     "status": "completed"
    },
    "tags": []
   },
   "outputs": [
    {
     "data": {
      "text/html": [
       "<div>\n",
       "<style scoped>\n",
       "    .dataframe tbody tr th:only-of-type {\n",
       "        vertical-align: middle;\n",
       "    }\n",
       "\n",
       "    .dataframe tbody tr th {\n",
       "        vertical-align: top;\n",
       "    }\n",
       "\n",
       "    .dataframe thead th {\n",
       "        text-align: right;\n",
       "    }\n",
       "</style>\n",
       "<table border=\"1\" class=\"dataframe\">\n",
       "  <thead>\n",
       "    <tr style=\"text-align: right;\">\n",
       "      <th></th>\n",
       "      <th>Time</th>\n",
       "      <th>V1</th>\n",
       "      <th>V2</th>\n",
       "      <th>V3</th>\n",
       "      <th>V4</th>\n",
       "      <th>V5</th>\n",
       "      <th>V6</th>\n",
       "      <th>V7</th>\n",
       "      <th>V8</th>\n",
       "      <th>V9</th>\n",
       "      <th>...</th>\n",
       "      <th>V21</th>\n",
       "      <th>V22</th>\n",
       "      <th>V23</th>\n",
       "      <th>V24</th>\n",
       "      <th>V25</th>\n",
       "      <th>V26</th>\n",
       "      <th>V27</th>\n",
       "      <th>V28</th>\n",
       "      <th>Amount</th>\n",
       "      <th>Class</th>\n",
       "    </tr>\n",
       "  </thead>\n",
       "  <tbody>\n",
       "    <tr>\n",
       "      <th>count</th>\n",
       "      <td>284807.000000</td>\n",
       "      <td>2.848070e+05</td>\n",
       "      <td>2.848070e+05</td>\n",
       "      <td>2.848070e+05</td>\n",
       "      <td>2.848070e+05</td>\n",
       "      <td>2.848070e+05</td>\n",
       "      <td>2.848070e+05</td>\n",
       "      <td>2.848070e+05</td>\n",
       "      <td>2.848070e+05</td>\n",
       "      <td>2.848070e+05</td>\n",
       "      <td>...</td>\n",
       "      <td>2.848070e+05</td>\n",
       "      <td>2.848070e+05</td>\n",
       "      <td>2.848070e+05</td>\n",
       "      <td>2.848070e+05</td>\n",
       "      <td>2.848070e+05</td>\n",
       "      <td>2.848070e+05</td>\n",
       "      <td>2.848070e+05</td>\n",
       "      <td>2.848070e+05</td>\n",
       "      <td>284807.000000</td>\n",
       "      <td>284807.000000</td>\n",
       "    </tr>\n",
       "    <tr>\n",
       "      <th>mean</th>\n",
       "      <td>94813.859575</td>\n",
       "      <td>1.168375e-15</td>\n",
       "      <td>3.416908e-16</td>\n",
       "      <td>-1.379537e-15</td>\n",
       "      <td>2.074095e-15</td>\n",
       "      <td>9.604066e-16</td>\n",
       "      <td>1.487313e-15</td>\n",
       "      <td>-5.556467e-16</td>\n",
       "      <td>1.213481e-16</td>\n",
       "      <td>-2.406331e-15</td>\n",
       "      <td>...</td>\n",
       "      <td>1.654067e-16</td>\n",
       "      <td>-3.568593e-16</td>\n",
       "      <td>2.578648e-16</td>\n",
       "      <td>4.473266e-15</td>\n",
       "      <td>5.340915e-16</td>\n",
       "      <td>1.683437e-15</td>\n",
       "      <td>-3.660091e-16</td>\n",
       "      <td>-1.227390e-16</td>\n",
       "      <td>88.349619</td>\n",
       "      <td>0.001727</td>\n",
       "    </tr>\n",
       "    <tr>\n",
       "      <th>std</th>\n",
       "      <td>47488.145955</td>\n",
       "      <td>1.958696e+00</td>\n",
       "      <td>1.651309e+00</td>\n",
       "      <td>1.516255e+00</td>\n",
       "      <td>1.415869e+00</td>\n",
       "      <td>1.380247e+00</td>\n",
       "      <td>1.332271e+00</td>\n",
       "      <td>1.237094e+00</td>\n",
       "      <td>1.194353e+00</td>\n",
       "      <td>1.098632e+00</td>\n",
       "      <td>...</td>\n",
       "      <td>7.345240e-01</td>\n",
       "      <td>7.257016e-01</td>\n",
       "      <td>6.244603e-01</td>\n",
       "      <td>6.056471e-01</td>\n",
       "      <td>5.212781e-01</td>\n",
       "      <td>4.822270e-01</td>\n",
       "      <td>4.036325e-01</td>\n",
       "      <td>3.300833e-01</td>\n",
       "      <td>250.120109</td>\n",
       "      <td>0.041527</td>\n",
       "    </tr>\n",
       "    <tr>\n",
       "      <th>min</th>\n",
       "      <td>0.000000</td>\n",
       "      <td>-5.640751e+01</td>\n",
       "      <td>-7.271573e+01</td>\n",
       "      <td>-4.832559e+01</td>\n",
       "      <td>-5.683171e+00</td>\n",
       "      <td>-1.137433e+02</td>\n",
       "      <td>-2.616051e+01</td>\n",
       "      <td>-4.355724e+01</td>\n",
       "      <td>-7.321672e+01</td>\n",
       "      <td>-1.343407e+01</td>\n",
       "      <td>...</td>\n",
       "      <td>-3.483038e+01</td>\n",
       "      <td>-1.093314e+01</td>\n",
       "      <td>-4.480774e+01</td>\n",
       "      <td>-2.836627e+00</td>\n",
       "      <td>-1.029540e+01</td>\n",
       "      <td>-2.604551e+00</td>\n",
       "      <td>-2.256568e+01</td>\n",
       "      <td>-1.543008e+01</td>\n",
       "      <td>0.000000</td>\n",
       "      <td>0.000000</td>\n",
       "    </tr>\n",
       "    <tr>\n",
       "      <th>25%</th>\n",
       "      <td>54201.500000</td>\n",
       "      <td>-9.203734e-01</td>\n",
       "      <td>-5.985499e-01</td>\n",
       "      <td>-8.903648e-01</td>\n",
       "      <td>-8.486401e-01</td>\n",
       "      <td>-6.915971e-01</td>\n",
       "      <td>-7.682956e-01</td>\n",
       "      <td>-5.540759e-01</td>\n",
       "      <td>-2.086297e-01</td>\n",
       "      <td>-6.430976e-01</td>\n",
       "      <td>...</td>\n",
       "      <td>-2.283949e-01</td>\n",
       "      <td>-5.423504e-01</td>\n",
       "      <td>-1.618463e-01</td>\n",
       "      <td>-3.545861e-01</td>\n",
       "      <td>-3.171451e-01</td>\n",
       "      <td>-3.269839e-01</td>\n",
       "      <td>-7.083953e-02</td>\n",
       "      <td>-5.295979e-02</td>\n",
       "      <td>5.600000</td>\n",
       "      <td>0.000000</td>\n",
       "    </tr>\n",
       "    <tr>\n",
       "      <th>50%</th>\n",
       "      <td>84692.000000</td>\n",
       "      <td>1.810880e-02</td>\n",
       "      <td>6.548556e-02</td>\n",
       "      <td>1.798463e-01</td>\n",
       "      <td>-1.984653e-02</td>\n",
       "      <td>-5.433583e-02</td>\n",
       "      <td>-2.741871e-01</td>\n",
       "      <td>4.010308e-02</td>\n",
       "      <td>2.235804e-02</td>\n",
       "      <td>-5.142873e-02</td>\n",
       "      <td>...</td>\n",
       "      <td>-2.945017e-02</td>\n",
       "      <td>6.781943e-03</td>\n",
       "      <td>-1.119293e-02</td>\n",
       "      <td>4.097606e-02</td>\n",
       "      <td>1.659350e-02</td>\n",
       "      <td>-5.213911e-02</td>\n",
       "      <td>1.342146e-03</td>\n",
       "      <td>1.124383e-02</td>\n",
       "      <td>22.000000</td>\n",
       "      <td>0.000000</td>\n",
       "    </tr>\n",
       "    <tr>\n",
       "      <th>75%</th>\n",
       "      <td>139320.500000</td>\n",
       "      <td>1.315642e+00</td>\n",
       "      <td>8.037239e-01</td>\n",
       "      <td>1.027196e+00</td>\n",
       "      <td>7.433413e-01</td>\n",
       "      <td>6.119264e-01</td>\n",
       "      <td>3.985649e-01</td>\n",
       "      <td>5.704361e-01</td>\n",
       "      <td>3.273459e-01</td>\n",
       "      <td>5.971390e-01</td>\n",
       "      <td>...</td>\n",
       "      <td>1.863772e-01</td>\n",
       "      <td>5.285536e-01</td>\n",
       "      <td>1.476421e-01</td>\n",
       "      <td>4.395266e-01</td>\n",
       "      <td>3.507156e-01</td>\n",
       "      <td>2.409522e-01</td>\n",
       "      <td>9.104512e-02</td>\n",
       "      <td>7.827995e-02</td>\n",
       "      <td>77.165000</td>\n",
       "      <td>0.000000</td>\n",
       "    </tr>\n",
       "    <tr>\n",
       "      <th>max</th>\n",
       "      <td>172792.000000</td>\n",
       "      <td>2.454930e+00</td>\n",
       "      <td>2.205773e+01</td>\n",
       "      <td>9.382558e+00</td>\n",
       "      <td>1.687534e+01</td>\n",
       "      <td>3.480167e+01</td>\n",
       "      <td>7.330163e+01</td>\n",
       "      <td>1.205895e+02</td>\n",
       "      <td>2.000721e+01</td>\n",
       "      <td>1.559499e+01</td>\n",
       "      <td>...</td>\n",
       "      <td>2.720284e+01</td>\n",
       "      <td>1.050309e+01</td>\n",
       "      <td>2.252841e+01</td>\n",
       "      <td>4.584549e+00</td>\n",
       "      <td>7.519589e+00</td>\n",
       "      <td>3.517346e+00</td>\n",
       "      <td>3.161220e+01</td>\n",
       "      <td>3.384781e+01</td>\n",
       "      <td>25691.160000</td>\n",
       "      <td>1.000000</td>\n",
       "    </tr>\n",
       "  </tbody>\n",
       "</table>\n",
       "<p>8 rows × 31 columns</p>\n",
       "</div>"
      ],
      "text/plain": [
       "                Time            V1            V2            V3            V4  \\\n",
       "count  284807.000000  2.848070e+05  2.848070e+05  2.848070e+05  2.848070e+05   \n",
       "mean    94813.859575  1.168375e-15  3.416908e-16 -1.379537e-15  2.074095e-15   \n",
       "std     47488.145955  1.958696e+00  1.651309e+00  1.516255e+00  1.415869e+00   \n",
       "min         0.000000 -5.640751e+01 -7.271573e+01 -4.832559e+01 -5.683171e+00   \n",
       "25%     54201.500000 -9.203734e-01 -5.985499e-01 -8.903648e-01 -8.486401e-01   \n",
       "50%     84692.000000  1.810880e-02  6.548556e-02  1.798463e-01 -1.984653e-02   \n",
       "75%    139320.500000  1.315642e+00  8.037239e-01  1.027196e+00  7.433413e-01   \n",
       "max    172792.000000  2.454930e+00  2.205773e+01  9.382558e+00  1.687534e+01   \n",
       "\n",
       "                 V5            V6            V7            V8            V9  \\\n",
       "count  2.848070e+05  2.848070e+05  2.848070e+05  2.848070e+05  2.848070e+05   \n",
       "mean   9.604066e-16  1.487313e-15 -5.556467e-16  1.213481e-16 -2.406331e-15   \n",
       "std    1.380247e+00  1.332271e+00  1.237094e+00  1.194353e+00  1.098632e+00   \n",
       "min   -1.137433e+02 -2.616051e+01 -4.355724e+01 -7.321672e+01 -1.343407e+01   \n",
       "25%   -6.915971e-01 -7.682956e-01 -5.540759e-01 -2.086297e-01 -6.430976e-01   \n",
       "50%   -5.433583e-02 -2.741871e-01  4.010308e-02  2.235804e-02 -5.142873e-02   \n",
       "75%    6.119264e-01  3.985649e-01  5.704361e-01  3.273459e-01  5.971390e-01   \n",
       "max    3.480167e+01  7.330163e+01  1.205895e+02  2.000721e+01  1.559499e+01   \n",
       "\n",
       "       ...           V21           V22           V23           V24  \\\n",
       "count  ...  2.848070e+05  2.848070e+05  2.848070e+05  2.848070e+05   \n",
       "mean   ...  1.654067e-16 -3.568593e-16  2.578648e-16  4.473266e-15   \n",
       "std    ...  7.345240e-01  7.257016e-01  6.244603e-01  6.056471e-01   \n",
       "min    ... -3.483038e+01 -1.093314e+01 -4.480774e+01 -2.836627e+00   \n",
       "25%    ... -2.283949e-01 -5.423504e-01 -1.618463e-01 -3.545861e-01   \n",
       "50%    ... -2.945017e-02  6.781943e-03 -1.119293e-02  4.097606e-02   \n",
       "75%    ...  1.863772e-01  5.285536e-01  1.476421e-01  4.395266e-01   \n",
       "max    ...  2.720284e+01  1.050309e+01  2.252841e+01  4.584549e+00   \n",
       "\n",
       "                V25           V26           V27           V28         Amount  \\\n",
       "count  2.848070e+05  2.848070e+05  2.848070e+05  2.848070e+05  284807.000000   \n",
       "mean   5.340915e-16  1.683437e-15 -3.660091e-16 -1.227390e-16      88.349619   \n",
       "std    5.212781e-01  4.822270e-01  4.036325e-01  3.300833e-01     250.120109   \n",
       "min   -1.029540e+01 -2.604551e+00 -2.256568e+01 -1.543008e+01       0.000000   \n",
       "25%   -3.171451e-01 -3.269839e-01 -7.083953e-02 -5.295979e-02       5.600000   \n",
       "50%    1.659350e-02 -5.213911e-02  1.342146e-03  1.124383e-02      22.000000   \n",
       "75%    3.507156e-01  2.409522e-01  9.104512e-02  7.827995e-02      77.165000   \n",
       "max    7.519589e+00  3.517346e+00  3.161220e+01  3.384781e+01   25691.160000   \n",
       "\n",
       "               Class  \n",
       "count  284807.000000  \n",
       "mean        0.001727  \n",
       "std         0.041527  \n",
       "min         0.000000  \n",
       "25%         0.000000  \n",
       "50%         0.000000  \n",
       "75%         0.000000  \n",
       "max         1.000000  \n",
       "\n",
       "[8 rows x 31 columns]"
      ]
     },
     "execution_count": 3,
     "metadata": {},
     "output_type": "execute_result"
    }
   ],
   "source": [
    "df.describe()"
   ]
  },
  {
   "cell_type": "code",
   "execution_count": 4,
   "id": "98a60bcb",
   "metadata": {
    "execution": {
     "iopub.execute_input": "2024-04-22T21:39:11.457450Z",
     "iopub.status.busy": "2024-04-22T21:39:11.457135Z",
     "iopub.status.idle": "2024-04-22T21:39:11.475374Z",
     "shell.execute_reply": "2024-04-22T21:39:11.474539Z"
    },
    "papermill": {
     "duration": 0.032158,
     "end_time": "2024-04-22T21:39:11.477222",
     "exception": false,
     "start_time": "2024-04-22T21:39:11.445064",
     "status": "completed"
    },
    "tags": []
   },
   "outputs": [
    {
     "data": {
      "text/plain": [
       "Time      0\n",
       "V1        0\n",
       "V2        0\n",
       "V3        0\n",
       "V4        0\n",
       "V5        0\n",
       "V6        0\n",
       "V7        0\n",
       "V8        0\n",
       "V9        0\n",
       "V10       0\n",
       "V11       0\n",
       "V12       0\n",
       "V13       0\n",
       "V14       0\n",
       "V15       0\n",
       "V16       0\n",
       "V17       0\n",
       "V18       0\n",
       "V19       0\n",
       "V20       0\n",
       "V21       0\n",
       "V22       0\n",
       "V23       0\n",
       "V24       0\n",
       "V25       0\n",
       "V26       0\n",
       "V27       0\n",
       "V28       0\n",
       "Amount    0\n",
       "Class     0\n",
       "dtype: int64"
      ]
     },
     "execution_count": 4,
     "metadata": {},
     "output_type": "execute_result"
    }
   ],
   "source": [
    "df.isnull().sum()"
   ]
  },
  {
   "cell_type": "code",
   "execution_count": 5,
   "id": "e44d40d7",
   "metadata": {
    "execution": {
     "iopub.execute_input": "2024-04-22T21:39:11.501183Z",
     "iopub.status.busy": "2024-04-22T21:39:11.500516Z",
     "iopub.status.idle": "2024-04-22T21:39:11.515962Z",
     "shell.execute_reply": "2024-04-22T21:39:11.514951Z"
    },
    "papermill": {
     "duration": 0.02936,
     "end_time": "2024-04-22T21:39:11.517766",
     "exception": false,
     "start_time": "2024-04-22T21:39:11.488406",
     "status": "completed"
    },
    "tags": []
   },
   "outputs": [
    {
     "name": "stdout",
     "output_type": "stream",
     "text": [
      "No Frauds 99.83 % of the dataset\n",
      "Frauds 0.17 % of the dataset\n"
     ]
    }
   ],
   "source": [
    "# The classes are heavily skewed we need to solve this issue later.\n",
    "print('No Frauds', round(df['Class'].value_counts()[0]/len(df) * 100,2), '% of the dataset')\n",
    "print('Frauds', round(df['Class'].value_counts()[1]/len(df) * 100,2), '% of the dataset')"
   ]
  },
  {
   "cell_type": "code",
   "execution_count": 6,
   "id": "8e443817",
   "metadata": {
    "execution": {
     "iopub.execute_input": "2024-04-22T21:39:11.541429Z",
     "iopub.status.busy": "2024-04-22T21:39:11.541162Z",
     "iopub.status.idle": "2024-04-22T21:39:11.548282Z",
     "shell.execute_reply": "2024-04-22T21:39:11.547471Z"
    },
    "papermill": {
     "duration": 0.021641,
     "end_time": "2024-04-22T21:39:11.550740",
     "exception": false,
     "start_time": "2024-04-22T21:39:11.529099",
     "status": "completed"
    },
    "tags": []
   },
   "outputs": [
    {
     "name": "stdout",
     "output_type": "stream",
     "text": [
      "Class distribution:\n",
      "Class\n",
      "0    284315\n",
      "1       492\n",
      "Name: count, dtype: int64\n"
     ]
    }
   ],
   "source": [
    "\n",
    "print(\"Class distribution:\")\n",
    "print(df['Class'].value_counts())\n"
   ]
  },
  {
   "cell_type": "code",
   "execution_count": 7,
   "id": "5fbb9a68",
   "metadata": {
    "execution": {
     "iopub.execute_input": "2024-04-22T21:39:11.575719Z",
     "iopub.status.busy": "2024-04-22T21:39:11.575442Z",
     "iopub.status.idle": "2024-04-22T21:39:11.751897Z",
     "shell.execute_reply": "2024-04-22T21:39:11.750905Z"
    },
    "papermill": {
     "duration": 0.19124,
     "end_time": "2024-04-22T21:39:11.754047",
     "exception": false,
     "start_time": "2024-04-22T21:39:11.562807",
     "status": "completed"
    },
    "tags": []
   },
   "outputs": [
    {
     "data": {
      "image/png": "[encoded data removed]",
      "text/plain": [
       "<Figure size 600x400 with 1 Axes>"
      ]
     },
     "metadata": {},
     "output_type": "display_data"
    }
   ],
   "source": [
    "\n",
    "class_distribution = df['Class'].value_counts()\n",
    "\n",
    "plt.figure(figsize=(6, 4))\n",
    "plt.bar(class_distribution.index, class_distribution.values, color=['blue', 'red'])\n",
    "plt.xlabel('Class')\n",
    "plt.ylabel('Count')\n",
    "plt.title('Class Distribution')\n",
    "plt.xticks([0, 1], ['Non-Fraudulent', 'Fraudulent'])\n",
    "plt.show()"
   ]
  },
  {
   "cell_type": "code",
   "execution_count": 8,
   "id": "34596d99",
   "metadata": {
    "execution": {
     "iopub.execute_input": "2024-04-22T21:39:11.779374Z",
     "iopub.status.busy": "2024-04-22T21:39:11.779084Z",
     "iopub.status.idle": "2024-04-22T21:39:11.828161Z",
     "shell.execute_reply": "2024-04-22T21:39:11.827337Z"
    },
    "papermill": {
     "duration": 0.064417,
     "end_time": "2024-04-22T21:39:11.830586",
     "exception": false,
     "start_time": "2024-04-22T21:39:11.766169",
     "status": "completed"
    },
    "tags": []
   },
   "outputs": [],
   "source": [
    "from sklearn.preprocessing import StandardScaler, RobustScaler\n",
    "rob_scaler = RobustScaler()\n",
    "\n",
    "df['scaled_amount'] = rob_scaler.fit_transform(df['Amount'].values.reshape(-1,1))\n",
    "df['scaled_time'] = rob_scaler.fit_transform(df['Time'].values.reshape(-1,1))\n",
    "\n",
    "df.drop(['Time','Amount'], axis=1, inplace=True)"
   ]
  },
  {
   "cell_type": "code",
   "execution_count": 9,
   "id": "79cdb262",
   "metadata": {
    "execution": {
     "iopub.execute_input": "2024-04-22T21:39:11.857029Z",
     "iopub.status.busy": "2024-04-22T21:39:11.856732Z",
     "iopub.status.idle": "2024-04-22T21:39:11.904860Z",
     "shell.execute_reply": "2024-04-22T21:39:11.903934Z"
    },
    "papermill": {
     "duration": 0.063678,
     "end_time": "2024-04-22T21:39:11.907079",
     "exception": false,
     "start_time": "2024-04-22T21:39:11.843401",
     "status": "completed"
    },
    "tags": []
   },
   "outputs": [
    {
     "data": {
      "text/html": [
       "<div>\n",
       "<style scoped>\n",
       "    .dataframe tbody tr th:only-of-type {\n",
       "        vertical-align: middle;\n",
       "    }\n",
       "\n",
       "    .dataframe tbody tr th {\n",
       "        vertical-align: top;\n",
       "    }\n",
       "\n",
       "    .dataframe thead th {\n",
       "        text-align: right;\n",
       "    }\n",
       "</style>\n",
       "<table border=\"1\" class=\"dataframe\">\n",
       "  <thead>\n",
       "    <tr style=\"text-align: right;\">\n",
       "      <th></th>\n",
       "      <th>scaled_amount</th>\n",
       "      <th>V1</th>\n",
       "      <th>V2</th>\n",
       "      <th>V3</th>\n",
       "      <th>V4</th>\n",
       "      <th>V5</th>\n",
       "      <th>V6</th>\n",
       "      <th>V7</th>\n",
       "      <th>V8</th>\n",
       "      <th>V9</th>\n",
       "      <th>...</th>\n",
       "      <th>V20</th>\n",
       "      <th>V21</th>\n",
       "      <th>V22</th>\n",
       "      <th>V23</th>\n",
       "      <th>V24</th>\n",
       "      <th>V25</th>\n",
       "      <th>V26</th>\n",
       "      <th>V27</th>\n",
       "      <th>V28</th>\n",
       "      <th>Class</th>\n",
       "    </tr>\n",
       "  </thead>\n",
       "  <tbody>\n",
       "    <tr>\n",
       "      <th>0</th>\n",
       "      <td>1.783274</td>\n",
       "      <td>-1.359807</td>\n",
       "      <td>-0.072781</td>\n",
       "      <td>2.536347</td>\n",
       "      <td>1.378155</td>\n",
       "      <td>-0.338321</td>\n",
       "      <td>0.462388</td>\n",
       "      <td>0.239599</td>\n",
       "      <td>0.098698</td>\n",
       "      <td>0.363787</td>\n",
       "      <td>...</td>\n",
       "      <td>0.251412</td>\n",
       "      <td>-0.018307</td>\n",
       "      <td>0.277838</td>\n",
       "      <td>-0.110474</td>\n",
       "      <td>0.066928</td>\n",
       "      <td>0.128539</td>\n",
       "      <td>-0.189115</td>\n",
       "      <td>0.133558</td>\n",
       "      <td>-0.021053</td>\n",
       "      <td>0</td>\n",
       "    </tr>\n",
       "    <tr>\n",
       "      <th>1</th>\n",
       "      <td>-0.269825</td>\n",
       "      <td>1.191857</td>\n",
       "      <td>0.266151</td>\n",
       "      <td>0.166480</td>\n",
       "      <td>0.448154</td>\n",
       "      <td>0.060018</td>\n",
       "      <td>-0.082361</td>\n",
       "      <td>-0.078803</td>\n",
       "      <td>0.085102</td>\n",
       "      <td>-0.255425</td>\n",
       "      <td>...</td>\n",
       "      <td>-0.069083</td>\n",
       "      <td>-0.225775</td>\n",
       "      <td>-0.638672</td>\n",
       "      <td>0.101288</td>\n",
       "      <td>-0.339846</td>\n",
       "      <td>0.167170</td>\n",
       "      <td>0.125895</td>\n",
       "      <td>-0.008983</td>\n",
       "      <td>0.014724</td>\n",
       "      <td>0</td>\n",
       "    </tr>\n",
       "    <tr>\n",
       "      <th>2</th>\n",
       "      <td>4.983721</td>\n",
       "      <td>-1.358354</td>\n",
       "      <td>-1.340163</td>\n",
       "      <td>1.773209</td>\n",
       "      <td>0.379780</td>\n",
       "      <td>-0.503198</td>\n",
       "      <td>1.800499</td>\n",
       "      <td>0.791461</td>\n",
       "      <td>0.247676</td>\n",
       "      <td>-1.514654</td>\n",
       "      <td>...</td>\n",
       "      <td>0.524980</td>\n",
       "      <td>0.247998</td>\n",
       "      <td>0.771679</td>\n",
       "      <td>0.909412</td>\n",
       "      <td>-0.689281</td>\n",
       "      <td>-0.327642</td>\n",
       "      <td>-0.139097</td>\n",
       "      <td>-0.055353</td>\n",
       "      <td>-0.059752</td>\n",
       "      <td>0</td>\n",
       "    </tr>\n",
       "    <tr>\n",
       "      <th>3</th>\n",
       "      <td>1.418291</td>\n",
       "      <td>-0.966272</td>\n",
       "      <td>-0.185226</td>\n",
       "      <td>1.792993</td>\n",
       "      <td>-0.863291</td>\n",
       "      <td>-0.010309</td>\n",
       "      <td>1.247203</td>\n",
       "      <td>0.237609</td>\n",
       "      <td>0.377436</td>\n",
       "      <td>-1.387024</td>\n",
       "      <td>...</td>\n",
       "      <td>-0.208038</td>\n",
       "      <td>-0.108300</td>\n",
       "      <td>0.005274</td>\n",
       "      <td>-0.190321</td>\n",
       "      <td>-1.175575</td>\n",
       "      <td>0.647376</td>\n",
       "      <td>-0.221929</td>\n",
       "      <td>0.062723</td>\n",
       "      <td>0.061458</td>\n",
       "      <td>0</td>\n",
       "    </tr>\n",
       "    <tr>\n",
       "      <th>4</th>\n",
       "      <td>0.670579</td>\n",
       "      <td>-1.158233</td>\n",
       "      <td>0.877737</td>\n",
       "      <td>1.548718</td>\n",
       "      <td>0.403034</td>\n",
       "      <td>-0.407193</td>\n",
       "      <td>0.095921</td>\n",
       "      <td>0.592941</td>\n",
       "      <td>-0.270533</td>\n",
       "      <td>0.817739</td>\n",
       "      <td>...</td>\n",
       "      <td>0.408542</td>\n",
       "      <td>-0.009431</td>\n",
       "      <td>0.798278</td>\n",
       "      <td>-0.137458</td>\n",
       "      <td>0.141267</td>\n",
       "      <td>-0.206010</td>\n",
       "      <td>0.502292</td>\n",
       "      <td>0.219422</td>\n",
       "      <td>0.215153</td>\n",
       "      <td>0</td>\n",
       "    </tr>\n",
       "  </tbody>\n",
       "</table>\n",
       "<p>5 rows × 30 columns</p>\n",
       "</div>"
      ],
      "text/plain": [
       "   scaled_amount        V1        V2        V3        V4        V5        V6  \\\n",
       "0       1.783274 -1.359807 -0.072781  2.536347  1.378155 -0.338321  0.462388   \n",
       "1      -0.269825  1.191857  0.266151  0.166480  0.448154  0.060018 -0.082361   \n",
       "2       4.983721 -1.358354 -1.340163  1.773209  0.379780 -0.503198  1.800499   \n",
       "3       1.418291 -0.966272 -0.185226  1.792993 -0.863291 -0.010309  1.247203   \n",
       "4       0.670579 -1.158233  0.877737  1.548718  0.403034 -0.407193  0.095921   \n",
       "\n",
       "         V7        V8        V9  ...       V20       V21       V22       V23  \\\n",
       "0  0.239599  0.098698  0.363787  ...  0.251412 -0.018307  0.277838 -0.110474   \n",
       "1 -0.078803  0.085102 -0.255425  ... -0.069083 -0.225775 -0.638672  0.101288   \n",
       "2  0.791461  0.247676 -1.514654  ...  0.524980  0.247998  0.771679  0.909412   \n",
       "3  0.237609  0.377436 -1.387024  ... -0.208038 -0.108300  0.005274 -0.190321   \n",
       "4  0.592941 -0.270533  0.817739  ...  0.408542 -0.009431  0.798278 -0.137458   \n",
       "\n",
       "        V24       V25       V26       V27       V28  Class  \n",
       "0  0.066928  0.128539 -0.189115  0.133558 -0.021053      0  \n",
       "1 -0.339846  0.167170  0.125895 -0.008983  0.014724      0  \n",
       "2 -0.689281 -0.327642 -0.139097 -0.055353 -0.059752      0  \n",
       "3 -1.175575  0.647376 -0.221929  0.062723  0.061458      0  \n",
       "4  0.141267 -0.206010  0.502292  0.219422  0.215153      0  \n",
       "\n",
       "[5 rows x 30 columns]"
      ]
     },
     "execution_count": 9,
     "metadata": {},
     "output_type": "execute_result"
    }
   ],
   "source": [
    "scaled_amount = df['scaled_amount']\n",
    "scaled_time = df['scaled_time']\n",
    "\n",
    "df.drop(['scaled_amount', 'scaled_time'], axis=1, inplace=True)\n",
    "df.insert(0, 'scaled_amount', scaled_amount)\n",
    "\n",
    "# Amount and Time are Scaled!\n",
    "\n",
    "df.head()"
   ]
  },
  {
   "cell_type": "markdown",
   "id": "e5f5ef25",
   "metadata": {
    "papermill": {
     "duration": 0.011949,
     "end_time": "2024-04-22T21:39:11.932026",
     "exception": false,
     "start_time": "2024-04-22T21:39:11.920077",
     "status": "completed"
    },
    "tags": []
   },
   "source": [
    "## splitting data"
   ]
  },
  {
   "cell_type": "code",
   "execution_count": 10,
   "id": "88168db2",
   "metadata": {
    "execution": {
     "iopub.execute_input": "2024-04-22T21:39:11.958478Z",
     "iopub.status.busy": "2024-04-22T21:39:11.957816Z",
     "iopub.status.idle": "2024-04-22T21:39:12.057020Z",
     "shell.execute_reply": "2024-04-22T21:39:12.056154Z"
    },
    "papermill": {
     "duration": 0.115374,
     "end_time": "2024-04-22T21:39:12.059352",
     "exception": false,
     "start_time": "2024-04-22T21:39:11.943978",
     "status": "completed"
    },
    "tags": []
   },
   "outputs": [],
   "source": [
    "from sklearn.model_selection import train_test_split\n",
    "X = df.drop('Class', axis=1)\n",
    "y = df['Class']\n",
    "\n",
    "\n",
    "X_train, X_test, y_train, y_test = train_test_split(X, y, test_size=0.2, random_state=42)\n"
   ]
  },
  {
   "cell_type": "markdown",
   "id": "520fb6a2",
   "metadata": {
    "papermill": {
     "duration": 0.011976,
     "end_time": "2024-04-22T21:39:12.083984",
     "exception": false,
     "start_time": "2024-04-22T21:39:12.072008",
     "status": "completed"
    },
    "tags": []
   },
   "source": [
    "## random over sampling"
   ]
  },
  {
   "cell_type": "code",
   "execution_count": 11,
   "id": "dba9cdf6",
   "metadata": {
    "execution": {
     "iopub.execute_input": "2024-04-22T21:39:12.109723Z",
     "iopub.status.busy": "2024-04-22T21:39:12.109176Z",
     "iopub.status.idle": "2024-04-22T21:39:12.524298Z",
     "shell.execute_reply": "2024-04-22T21:39:12.523349Z"
    },
    "papermill": {
     "duration": 0.430744,
     "end_time": "2024-04-22T21:39:12.526523",
     "exception": false,
     "start_time": "2024-04-22T21:39:12.095779",
     "status": "completed"
    },
    "tags": []
   },
   "outputs": [
    {
     "name": "stdout",
     "output_type": "stream",
     "text": [
      "Class\n",
      "0    227451\n",
      "1    227451\n",
      "Name: count, dtype: int64\n"
     ]
    }
   ],
   "source": [
    "from imblearn.over_sampling import RandomOverSampler, SMOTE\n",
    "\n",
    "# Random Oversampling\n",
    "ros = RandomOverSampler(random_state=42)\n",
    "X_train_ros, y_train_ros = ros.fit_resample(X_train, y_train)\n",
    "print(y_train_ros.value_counts())"
   ]
  },
  {
   "cell_type": "markdown",
   "id": "ea0c59db",
   "metadata": {
    "papermill": {
     "duration": 0.012961,
     "end_time": "2024-04-22T21:39:12.552039",
     "exception": false,
     "start_time": "2024-04-22T21:39:12.539078",
     "status": "completed"
    },
    "tags": []
   },
   "source": [
    "## SMOTE"
   ]
  },
  {
   "cell_type": "code",
   "execution_count": 12,
   "id": "b72fd9f8",
   "metadata": {
    "execution": {
     "iopub.execute_input": "2024-04-22T21:39:12.578255Z",
     "iopub.status.busy": "2024-04-22T21:39:12.577762Z",
     "iopub.status.idle": "2024-04-22T21:39:13.046758Z",
     "shell.execute_reply": "2024-04-22T21:39:13.045651Z"
    },
    "papermill": {
     "duration": 0.484325,
     "end_time": "2024-04-22T21:39:13.049002",
     "exception": false,
     "start_time": "2024-04-22T21:39:12.564677",
     "status": "completed"
    },
    "tags": []
   },
   "outputs": [
    {
     "name": "stdout",
     "output_type": "stream",
     "text": [
      "Class\n",
      "0    227451\n",
      "1    227451\n",
      "Name: count, dtype: int64\n"
     ]
    }
   ],
   "source": [
    "smote = SMOTE(random_state=42)\n",
    "X_train_smote, y_train_smote = smote.fit_resample(X_train, y_train)\n",
    "print(y_train_smote.value_counts())"
   ]
  },
  {
   "cell_type": "markdown",
   "id": "3bf7c5d9",
   "metadata": {
    "papermill": {
     "duration": 0.012355,
     "end_time": "2024-04-22T21:39:13.074315",
     "exception": false,
     "start_time": "2024-04-22T21:39:13.061960",
     "status": "completed"
    },
    "tags": []
   },
   "source": [
    "## neural network calssifer"
   ]
  },
  {
   "cell_type": "code",
   "execution_count": 13,
   "id": "27c2707e",
   "metadata": {
    "execution": {
     "iopub.execute_input": "2024-04-22T21:39:13.101085Z",
     "iopub.status.busy": "2024-04-22T21:39:13.100382Z",
     "iopub.status.idle": "2024-04-22T21:39:13.108497Z",
     "shell.execute_reply": "2024-04-22T21:39:13.107642Z"
    },
    "papermill": {
     "duration": 0.023608,
     "end_time": "2024-04-22T21:39:13.110386",
     "exception": false,
     "start_time": "2024-04-22T21:39:13.086778",
     "status": "completed"
    },
    "tags": []
   },
   "outputs": [],
   "source": [
    "\n",
    "# Neural network model\n",
    "from tensorflow.keras import layers, models\n",
    "from tensorflow.keras.layers import Conv2D, MaxPooling2D, Flatten, Dense, BatchNormalization, Dropout\n",
    "def Neural_network(input_shape):\n",
    "    model = models.Sequential()\n",
    "    model.add(Dense(64, activation='relu', input_shape=(input_shape,)))\n",
    "    model.add(Dropout(0.5))\n",
    "    model.add(Dense(32, activation='relu'))\n",
    "    model.add(Dropout(0.5))\n",
    "    model.add(Dense(1, activation='sigmoid'))\n",
    "    model.compile(optimizer='adam', loss='binary_crossentropy', metrics=['accuracy'])\n",
    "    return model"
   ]
  },
  {
   "cell_type": "code",
   "execution_count": 14,
   "id": "2663de76",
   "metadata": {
    "execution": {
     "iopub.execute_input": "2024-04-22T21:39:13.136169Z",
     "iopub.status.busy": "2024-04-22T21:39:13.135663Z",
     "iopub.status.idle": "2024-04-22T21:40:13.880554Z",
     "shell.execute_reply": "2024-04-22T21:40:13.879659Z"
    },
    "papermill": {
     "duration": 60.836886,
     "end_time": "2024-04-22T21:40:13.959527",
     "exception": false,
     "start_time": "2024-04-22T21:39:13.122641",
     "status": "completed"
    },
    "tags": []
   },
   "outputs": [
    {
     "name": "stderr",
     "output_type": "stream",
     "text": [
      "/opt/conda/lib/python3.10/site-packages/keras/src/layers/core/dense.py:88: UserWarning: Do not pass an `input_shape`/`input_dim` argument to a layer. When using Sequential models, prefer using an `Input(shape)` object as the first layer in the model instead.\n",
      "  super().__init__(activity_regularizer=activity_regularizer, **kwargs)\n"
     ]
    },
    {
     "name": "stdout",
     "output_type": "stream",
     "text": [
      "Epoch 1/10\n",
      "\u001b[1m 101/2849\u001b[0m \u001b[37m━━━━━━━━━━━━━━━━━━━━\u001b[0m \u001b[1m4s\u001b[0m 2ms/step - accuracy: 0.8397 - loss: 0.3977"
     ]
    },
    {
     "name": "stderr",
     "output_type": "stream",
     "text": [
      "WARNING: All log messages before absl::InitializeLog() is called are written to STDERR\n",
      "I0000 00:00:1713821958.325953      76 device_compiler.h:186] Compiled cluster using XLA!  This line is logged at most once for the lifetime of the process.\n"
     ]
    },
    {
     "name": "stdout",
     "output_type": "stream",
     "text": [
      "\u001b[1m2849/2849\u001b[0m \u001b[32m━━━━━━━━━━━━━━━━━━━━\u001b[0m\u001b[37m\u001b[0m \u001b[1m13s\u001b[0m 3ms/step - accuracy: 0.9855 - loss: 0.0555 - val_accuracy: 0.9993 - val_loss: 0.0037\n",
      "Epoch 2/10\n",
      "\u001b[1m2849/2849\u001b[0m \u001b[32m━━━━━━━━━━━━━━━━━━━━\u001b[0m\u001b[37m\u001b[0m \u001b[1m5s\u001b[0m 2ms/step - accuracy: 0.9992 - loss: 0.0062 - val_accuracy: 0.9993 - val_loss: 0.0033\n",
      "Epoch 3/10\n",
      "\u001b[1m2849/2849\u001b[0m \u001b[32m━━━━━━━━━━━━━━━━━━━━\u001b[0m\u001b[37m\u001b[0m \u001b[1m5s\u001b[0m 2ms/step - accuracy: 0.9992 - loss: 0.0054 - val_accuracy: 0.9993 - val_loss: 0.0036\n",
      "Epoch 4/10\n",
      "\u001b[1m2849/2849\u001b[0m \u001b[32m━━━━━━━━━━━━━━━━━━━━\u001b[0m\u001b[37m\u001b[0m \u001b[1m5s\u001b[0m 2ms/step - accuracy: 0.9992 - loss: 0.0044 - val_accuracy: 0.9994 - val_loss: 0.0030\n",
      "Epoch 5/10\n",
      "\u001b[1m2849/2849\u001b[0m \u001b[32m━━━━━━━━━━━━━━━━━━━━\u001b[0m\u001b[37m\u001b[0m \u001b[1m5s\u001b[0m 2ms/step - accuracy: 0.9993 - loss: 0.0043 - val_accuracy: 0.9992 - val_loss: 0.0034\n",
      "Epoch 6/10\n",
      "\u001b[1m2849/2849\u001b[0m \u001b[32m━━━━━━━━━━━━━━━━━━━━\u001b[0m\u001b[37m\u001b[0m \u001b[1m5s\u001b[0m 2ms/step - accuracy: 0.9992 - loss: 0.0043 - val_accuracy: 0.9994 - val_loss: 0.0033\n",
      "Epoch 7/10\n",
      "\u001b[1m2849/2849\u001b[0m \u001b[32m━━━━━━━━━━━━━━━━━━━━\u001b[0m\u001b[37m\u001b[0m \u001b[1m5s\u001b[0m 2ms/step - accuracy: 0.9994 - loss: 0.0036 - val_accuracy: 0.9994 - val_loss: 0.0028\n",
      "Epoch 8/10\n",
      "\u001b[1m2849/2849\u001b[0m \u001b[32m━━━━━━━━━━━━━━━━━━━━\u001b[0m\u001b[37m\u001b[0m \u001b[1m5s\u001b[0m 2ms/step - accuracy: 0.9992 - loss: 0.0039 - val_accuracy: 0.9993 - val_loss: 0.0033\n",
      "Epoch 9/10\n",
      "\u001b[1m2849/2849\u001b[0m \u001b[32m━━━━━━━━━━━━━━━━━━━━\u001b[0m\u001b[37m\u001b[0m \u001b[1m5s\u001b[0m 2ms/step - accuracy: 0.9992 - loss: 0.0041 - val_accuracy: 0.9993 - val_loss: 0.0031\n",
      "Epoch 10/10\n",
      "\u001b[1m2849/2849\u001b[0m \u001b[32m━━━━━━━━━━━━━━━━━━━━\u001b[0m\u001b[37m\u001b[0m \u001b[1m5s\u001b[0m 2ms/step - accuracy: 0.9993 - loss: 0.0042 - val_accuracy: 0.9994 - val_loss: 0.0029\n"
     ]
    },
    {
     "data": {
      "text/plain": [
       "<keras.src.callbacks.history.History at 0x7b1c92af8760>"
      ]
     },
     "execution_count": 14,
     "metadata": {},
     "output_type": "execute_result"
    }
   ],
   "source": [
    "#train on original data\n",
    "# Train and evaluate the model on original data\n",
    "model_original = Neural_network(X_train.shape[1])\n",
    "model_original.fit(X_train, y_train, epochs=10, batch_size=64, validation_split=0.2)"
   ]
  },
  {
   "cell_type": "code",
   "execution_count": 15,
   "id": "cc6114d8",
   "metadata": {
    "execution": {
     "iopub.execute_input": "2024-04-22T21:40:14.160401Z",
     "iopub.status.busy": "2024-04-22T21:40:14.160071Z",
     "iopub.status.idle": "2024-04-22T21:42:06.376904Z",
     "shell.execute_reply": "2024-04-22T21:42:06.375953Z"
    },
    "papermill": {
     "duration": 112.340729,
     "end_time": "2024-04-22T21:42:06.379090",
     "exception": false,
     "start_time": "2024-04-22T21:40:14.038361",
     "status": "completed"
    },
    "tags": []
   },
   "outputs": [
    {
     "name": "stderr",
     "output_type": "stream",
     "text": [
      "/opt/conda/lib/python3.10/site-packages/keras/src/layers/core/dense.py:88: UserWarning: Do not pass an `input_shape`/`input_dim` argument to a layer. When using Sequential models, prefer using an `Input(shape)` object as the first layer in the model instead.\n",
      "  super().__init__(activity_regularizer=activity_regularizer, **kwargs)\n"
     ]
    },
    {
     "name": "stdout",
     "output_type": "stream",
     "text": [
      "Epoch 1/10\n",
      "\u001b[1m5687/5687\u001b[0m \u001b[32m━━━━━━━━━━━━━━━━━━━━\u001b[0m\u001b[37m\u001b[0m \u001b[1m17s\u001b[0m 2ms/step - accuracy: 0.9303 - loss: 0.1849 - val_accuracy: 0.9953 - val_loss: 0.0307\n",
      "Epoch 2/10\n",
      "\u001b[1m5687/5687\u001b[0m \u001b[32m━━━━━━━━━━━━━━━━━━━━\u001b[0m\u001b[37m\u001b[0m \u001b[1m10s\u001b[0m 2ms/step - accuracy: 0.9892 - loss: 0.0331 - val_accuracy: 1.0000 - val_loss: 0.0076\n",
      "Epoch 3/10\n",
      "\u001b[1m5687/5687\u001b[0m \u001b[32m━━━━━━━━━━━━━━━━━━━━\u001b[0m\u001b[37m\u001b[0m \u001b[1m10s\u001b[0m 2ms/step - accuracy: 0.9937 - loss: 0.0207 - val_accuracy: 1.0000 - val_loss: 0.0056\n",
      "Epoch 4/10\n",
      "\u001b[1m5687/5687\u001b[0m \u001b[32m━━━━━━━━━━━━━━━━━━━━\u001b[0m\u001b[37m\u001b[0m \u001b[1m11s\u001b[0m 2ms/step - accuracy: 0.9945 - loss: 0.0183 - val_accuracy: 1.0000 - val_loss: 0.0035\n",
      "Epoch 5/10\n",
      "\u001b[1m5687/5687\u001b[0m \u001b[32m━━━━━━━━━━━━━━━━━━━━\u001b[0m\u001b[37m\u001b[0m \u001b[1m11s\u001b[0m 2ms/step - accuracy: 0.9952 - loss: 0.0164 - val_accuracy: 0.9978 - val_loss: 0.0110\n",
      "Epoch 6/10\n",
      "\u001b[1m5687/5687\u001b[0m \u001b[32m━━━━━━━━━━━━━━━━━━━━\u001b[0m\u001b[37m\u001b[0m \u001b[1m10s\u001b[0m 2ms/step - accuracy: 0.9953 - loss: 0.0161 - val_accuracy: 1.0000 - val_loss: 0.0062\n",
      "Epoch 7/10\n",
      "\u001b[1m5687/5687\u001b[0m \u001b[32m━━━━━━━━━━━━━━━━━━━━\u001b[0m\u001b[37m\u001b[0m \u001b[1m11s\u001b[0m 2ms/step - accuracy: 0.9959 - loss: 0.0133 - val_accuracy: 1.0000 - val_loss: 0.0048\n",
      "Epoch 8/10\n",
      "\u001b[1m5687/5687\u001b[0m \u001b[32m━━━━━━━━━━━━━━━━━━━━\u001b[0m\u001b[37m\u001b[0m \u001b[1m11s\u001b[0m 2ms/step - accuracy: 0.9960 - loss: 0.0139 - val_accuracy: 1.0000 - val_loss: 0.0039\n",
      "Epoch 9/10\n",
      "\u001b[1m5687/5687\u001b[0m \u001b[32m━━━━━━━━━━━━━━━━━━━━\u001b[0m\u001b[37m\u001b[0m \u001b[1m10s\u001b[0m 2ms/step - accuracy: 0.9959 - loss: 0.0137 - val_accuracy: 1.0000 - val_loss: 0.0039\n",
      "Epoch 10/10\n",
      "\u001b[1m5687/5687\u001b[0m \u001b[32m━━━━━━━━━━━━━━━━━━━━\u001b[0m\u001b[37m\u001b[0m \u001b[1m11s\u001b[0m 2ms/step - accuracy: 0.9960 - loss: 0.0141 - val_accuracy: 1.0000 - val_loss: 0.0029\n"
     ]
    },
    {
     "data": {
      "text/plain": [
       "<keras.src.callbacks.history.History at 0x7b1c7c1e63e0>"
      ]
     },
     "execution_count": 15,
     "metadata": {},
     "output_type": "execute_result"
    }
   ],
   "source": [
    "#train on data after random overSampling\n",
    "model_ros = Neural_network(X_train_ros.shape[1])\n",
    "model_ros.fit(X_train_ros, y_train_ros, epochs=10, batch_size=64, validation_split=0.2)"
   ]
  },
  {
   "cell_type": "code",
   "execution_count": 16,
   "id": "d2633290",
   "metadata": {
    "execution": {
     "iopub.execute_input": "2024-04-22T21:42:06.823656Z",
     "iopub.status.busy": "2024-04-22T21:42:06.823280Z",
     "iopub.status.idle": "2024-04-22T21:43:59.089563Z",
     "shell.execute_reply": "2024-04-22T21:43:59.088742Z"
    },
    "papermill": {
     "duration": 112.487013,
     "end_time": "2024-04-22T21:43:59.091435",
     "exception": false,
     "start_time": "2024-04-22T21:42:06.604422",
     "status": "completed"
    },
    "tags": []
   },
   "outputs": [
    {
     "name": "stderr",
     "output_type": "stream",
     "text": [
      "/opt/conda/lib/python3.10/site-packages/keras/src/layers/core/dense.py:88: UserWarning: Do not pass an `input_shape`/`input_dim` argument to a layer. When using Sequential models, prefer using an `Input(shape)` object as the first layer in the model instead.\n",
      "  super().__init__(activity_regularizer=activity_regularizer, **kwargs)\n"
     ]
    },
    {
     "name": "stdout",
     "output_type": "stream",
     "text": [
      "Epoch 1/10\n",
      "\u001b[1m5687/5687\u001b[0m \u001b[32m━━━━━━━━━━━━━━━━━━━━\u001b[0m\u001b[37m\u001b[0m \u001b[1m17s\u001b[0m 2ms/step - accuracy: 0.9420 - loss: 0.1583 - val_accuracy: 0.9972 - val_loss: 0.0193\n",
      "Epoch 2/10\n",
      "\u001b[1m5687/5687\u001b[0m \u001b[32m━━━━━━━━━━━━━━━━━━━━\u001b[0m\u001b[37m\u001b[0m \u001b[1m11s\u001b[0m 2ms/step - accuracy: 0.9927 - loss: 0.0240 - val_accuracy: 0.9996 - val_loss: 0.0082\n",
      "Epoch 3/10\n",
      "\u001b[1m5687/5687\u001b[0m \u001b[32m━━━━━━━━━━━━━━━━━━━━\u001b[0m\u001b[37m\u001b[0m \u001b[1m10s\u001b[0m 2ms/step - accuracy: 0.9953 - loss: 0.0165 - val_accuracy: 0.9998 - val_loss: 0.0056\n",
      "Epoch 4/10\n",
      "\u001b[1m5687/5687\u001b[0m \u001b[32m━━━━━━━━━━━━━━━━━━━━\u001b[0m\u001b[37m\u001b[0m \u001b[1m10s\u001b[0m 2ms/step - accuracy: 0.9959 - loss: 0.0149 - val_accuracy: 0.9995 - val_loss: 0.0039\n",
      "Epoch 5/10\n",
      "\u001b[1m5687/5687\u001b[0m \u001b[32m━━━━━━━━━━━━━━━━━━━━\u001b[0m\u001b[37m\u001b[0m \u001b[1m11s\u001b[0m 2ms/step - accuracy: 0.9965 - loss: 0.0137 - val_accuracy: 0.9970 - val_loss: 0.0108\n",
      "Epoch 6/10\n",
      "\u001b[1m5687/5687\u001b[0m \u001b[32m━━━━━━━━━━━━━━━━━━━━\u001b[0m\u001b[37m\u001b[0m \u001b[1m11s\u001b[0m 2ms/step - accuracy: 0.9967 - loss: 0.0126 - val_accuracy: 1.0000 - val_loss: 0.0033\n",
      "Epoch 7/10\n",
      "\u001b[1m5687/5687\u001b[0m \u001b[32m━━━━━━━━━━━━━━━━━━━━\u001b[0m\u001b[37m\u001b[0m \u001b[1m10s\u001b[0m 2ms/step - accuracy: 0.9969 - loss: 0.0118 - val_accuracy: 1.0000 - val_loss: 0.0031\n",
      "Epoch 8/10\n",
      "\u001b[1m5687/5687\u001b[0m \u001b[32m━━━━━━━━━━━━━━━━━━━━\u001b[0m\u001b[37m\u001b[0m \u001b[1m11s\u001b[0m 2ms/step - accuracy: 0.9971 - loss: 0.0115 - val_accuracy: 1.0000 - val_loss: 0.0031\n",
      "Epoch 9/10\n",
      "\u001b[1m5687/5687\u001b[0m \u001b[32m━━━━━━━━━━━━━━━━━━━━\u001b[0m\u001b[37m\u001b[0m \u001b[1m11s\u001b[0m 2ms/step - accuracy: 0.9972 - loss: 0.0107 - val_accuracy: 0.9998 - val_loss: 0.0043\n",
      "Epoch 10/10\n",
      "\u001b[1m5687/5687\u001b[0m \u001b[32m━━━━━━━━━━━━━━━━━━━━\u001b[0m\u001b[37m\u001b[0m \u001b[1m10s\u001b[0m 2ms/step - accuracy: 0.9973 - loss: 0.0101 - val_accuracy: 1.0000 - val_loss: 0.0032\n"
     ]
    },
    {
     "data": {
      "text/plain": [
       "<keras.src.callbacks.history.History at 0x7b1c2c5d8b50>"
      ]
     },
     "execution_count": 16,
     "metadata": {},
     "output_type": "execute_result"
    }
   ],
   "source": [
    "# train data after Smote\n",
    "model_smote = Neural_network(X_train_smote.shape[1])\n",
    "model_smote.fit(X_train_smote, y_train_smote, epochs=10, batch_size=64, validation_split=0.2)\n"
   ]
  },
  {
   "cell_type": "code",
   "execution_count": 17,
   "id": "861820c1",
   "metadata": {
    "execution": {
     "iopub.execute_input": "2024-04-22T21:43:59.881687Z",
     "iopub.status.busy": "2024-04-22T21:43:59.880943Z",
     "iopub.status.idle": "2024-04-22T21:44:09.188425Z",
     "shell.execute_reply": "2024-04-22T21:44:09.186855Z"
    },
    "papermill": {
     "duration": 9.718998,
     "end_time": "2024-04-22T21:44:09.191132",
     "exception": false,
     "start_time": "2024-04-22T21:43:59.472134",
     "status": "completed"
    },
    "tags": []
   },
   "outputs": [
    {
     "name": "stdout",
     "output_type": "stream",
     "text": [
      "\u001b[1m1781/1781\u001b[0m \u001b[32m━━━━━━━━━━━━━━━━━━━━\u001b[0m\u001b[37m\u001b[0m \u001b[1m2s\u001b[0m 1ms/step\n",
      "\u001b[1m1781/1781\u001b[0m \u001b[32m━━━━━━━━━━━━━━━━━━━━\u001b[0m\u001b[37m\u001b[0m \u001b[1m2s\u001b[0m 1ms/step\n",
      "\u001b[1m1781/1781\u001b[0m \u001b[32m━━━━━━━━━━━━━━━━━━━━\u001b[0m\u001b[37m\u001b[0m \u001b[1m2s\u001b[0m 1ms/step\n"
     ]
    }
   ],
   "source": [
    "y_pred_original = model_original.predict(X_test)\n",
    "y_pred_ros = model_ros.predict(X_test)\n",
    "y_pred_smote = model_smote.predict(X_test)\n"
   ]
  },
  {
   "cell_type": "markdown",
   "id": "d15f19b1",
   "metadata": {
    "papermill": {
     "duration": 0.369874,
     "end_time": "2024-04-22T21:44:09.948014",
     "exception": false,
     "start_time": "2024-04-22T21:44:09.578140",
     "status": "completed"
    },
    "tags": []
   },
   "source": [
    "## evaluating"
   ]
  },
  {
   "cell_type": "code",
   "execution_count": 18,
   "id": "bd8f656e",
   "metadata": {
    "execution": {
     "iopub.execute_input": "2024-04-22T21:44:10.691588Z",
     "iopub.status.busy": "2024-04-22T21:44:10.691267Z",
     "iopub.status.idle": "2024-04-22T21:44:10.700012Z",
     "shell.execute_reply": "2024-04-22T21:44:10.699045Z"
    },
    "papermill": {
     "duration": 0.38561,
     "end_time": "2024-04-22T21:44:10.702076",
     "exception": false,
     "start_time": "2024-04-22T21:44:10.316466",
     "status": "completed"
    },
    "tags": []
   },
   "outputs": [],
   "source": [
    "from sklearn.metrics import accuracy_score\n",
    "from sklearn.metrics import precision_score\n",
    "from sklearn.metrics import recall_score\n",
    "from sklearn.metrics import f1_score\n",
    "\n",
    "\n",
    "def evaluate_model(y_true, y_pred_proba, title):\n",
    "    assert len(y_true) == len(y_pred_proba), \"Arrays y_true and y_pred_proba must have the same length.\"\n",
    "    \n",
    "    y_pred_binary = (y_pred_proba > 0.5).astype(int)\n",
    "    \n",
    "    accuracy = accuracy_score(y_true, y_pred_binary)\n",
    "    precision = precision_score(y_true, y_pred_binary)\n",
    "    recall = recall_score(y_true, y_pred_binary)\n",
    "    f1 = f1_score(y_true, y_pred_binary)\n",
    "    \n",
    "    print(title + \" Metrics:\")\n",
    "    print(\"Accuracy:\", accuracy)\n",
    "    print(\"Precision:\", precision)\n",
    "    print(\"Recall:\", recall)\n",
    "    print(\"F1-score:\", f1)\n",
    "    \n",
    "    # Plotting confusion matrix\n",
    "    plt.figure(figsize=(8, 6))\n",
    "    confusion_matrix = pd.crosstab(y_true, y_pred_binary.ravel(), rownames=['Actual'], colnames=['Predicted'])\n",
    "    sns.heatmap(confusion_matrix, annot=True, cmap=\"Blues\", fmt=\"d\")\n",
    "    plt.title(title + \" Confusion Matrix\")\n",
    "    plt.show()\n",
    "    \n",
    "   "
   ]
  },
  {
   "cell_type": "code",
   "execution_count": 19,
   "id": "ad6400cb",
   "metadata": {
    "execution": {
     "iopub.execute_input": "2024-04-22T21:44:11.447329Z",
     "iopub.status.busy": "2024-04-22T21:44:11.446315Z",
     "iopub.status.idle": "2024-04-22T21:44:11.816823Z",
     "shell.execute_reply": "2024-04-22T21:44:11.815970Z"
    },
    "papermill": {
     "duration": 0.747219,
     "end_time": "2024-04-22T21:44:11.818708",
     "exception": false,
     "start_time": "2024-04-22T21:44:11.071489",
     "status": "completed"
    },
    "tags": []
   },
   "outputs": [
    {
     "name": "stdout",
     "output_type": "stream",
     "text": [
      "Original Data Metrics:\n",
      "Accuracy: 0.999403110845827\n",
      "Precision: 0.8809523809523809\n",
      "Recall: 0.7551020408163265\n",
      "F1-score: 0.8131868131868131\n"
     ]
    },
    {
     "data": {
      "image/png": "[encoded data removed]",
      "text/plain": [
       "<Figure size 800x600 with 2 Axes>"
      ]
     },
     "metadata": {},
     "output_type": "display_data"
    }
   ],
   "source": [
    "\n",
    "# Evaluate original data model\n",
    "evaluate_model(y_test, y_pred_original, \"Original Data\")\n",
    "\n",
    "\n"
   ]
  },
  {
   "cell_type": "code",
   "execution_count": 20,
   "id": "f15adf9c",
   "metadata": {
    "execution": {
     "iopub.execute_input": "2024-04-22T21:44:12.608983Z",
     "iopub.status.busy": "2024-04-22T21:44:12.608598Z",
     "iopub.status.idle": "2024-04-22T21:44:12.918175Z",
     "shell.execute_reply": "2024-04-22T21:44:12.917310Z"
    },
    "papermill": {
     "duration": 0.689221,
     "end_time": "2024-04-22T21:44:12.920124",
     "exception": false,
     "start_time": "2024-04-22T21:44:12.230903",
     "status": "completed"
    },
    "tags": []
   },
   "outputs": [
    {
     "name": "stdout",
     "output_type": "stream",
     "text": [
      "Random Oversampling Metrics:\n",
      "Accuracy: 0.9984024437344194\n",
      "Precision: 0.5212121212121212\n",
      "Recall: 0.8775510204081632\n",
      "F1-score: 0.6539923954372623\n"
     ]
    },
    {
     "data": {
      "image/png": "[encoded data removed]",
      "text/plain": [
       "<Figure size 800x600 with 2 Axes>"
      ]
     },
     "metadata": {},
     "output_type": "display_data"
    }
   ],
   "source": [
    "# Evaluate model after random oversampling\n",
    "evaluate_model(y_test, y_pred_ros, \"Random Oversampling\")\n"
   ]
  },
  {
   "cell_type": "code",
   "execution_count": 21,
   "id": "328a6300",
   "metadata": {
    "execution": {
     "iopub.execute_input": "2024-04-22T21:44:13.662745Z",
     "iopub.status.busy": "2024-04-22T21:44:13.662404Z",
     "iopub.status.idle": "2024-04-22T21:44:13.974334Z",
     "shell.execute_reply": "2024-04-22T21:44:13.973474Z"
    },
    "papermill": {
     "duration": 0.687497,
     "end_time": "2024-04-22T21:44:13.976275",
     "exception": false,
     "start_time": "2024-04-22T21:44:13.288778",
     "status": "completed"
    },
    "tags": []
   },
   "outputs": [
    {
     "name": "stdout",
     "output_type": "stream",
     "text": [
      "SMOTE Metrics:\n",
      "Accuracy: 0.9989466661985184\n",
      "Precision: 0.6484375\n",
      "Recall: 0.8469387755102041\n",
      "F1-score: 0.7345132743362831\n"
     ]
    },
    {
     "data": {
      "image/png": "[encoded data removed]",
      "text/plain": [
       "<Figure size 800x600 with 2 Axes>"
      ]
     },
     "metadata": {},
     "output_type": "display_data"
    }
   ],
   "source": [
    "# Evaluate model after SMOTE\n",
    "evaluate_model(y_test, y_pred_smote, \"SMOTE\")"
   ]
  },
  {
   "cell_type": "markdown",
   "id": "bf371944",
   "metadata": {
    "papermill": {
     "duration": 0.417719,
     "end_time": "2024-04-22T21:44:14.766114",
     "exception": false,
     "start_time": "2024-04-22T21:44:14.348395",
     "status": "completed"
    },
    "tags": []
   },
   "source": [
    "# SVM"
   ]
  },
  {
   "cell_type": "code",
   "execution_count": 22,
   "id": "30f6df63",
   "metadata": {
    "execution": {
     "iopub.execute_input": "2024-04-22T21:44:15.505636Z",
     "iopub.status.busy": "2024-04-22T21:44:15.505297Z",
     "iopub.status.idle": "2024-04-22T21:44:15.509503Z",
     "shell.execute_reply": "2024-04-22T21:44:15.508646Z"
    },
    "papermill": {
     "duration": 0.378026,
     "end_time": "2024-04-22T21:44:15.511343",
     "exception": false,
     "start_time": "2024-04-22T21:44:15.133317",
     "status": "completed"
    },
    "tags": []
   },
   "outputs": [],
   "source": [
    "# from sklearn.svm import SVC\n",
    "\n",
    "# # Initialize the SVM classifier\n",
    "# svm_classifier = SVC(kernel='rbf', random_state=42)\n",
    "\n",
    "# # Train the classifier on the original training data\n",
    "# svm_classifier.fit(X_train, y_train)\n",
    "\n",
    "# # Make predictions on the oriignal test data\n",
    "# y_pred_orirginal2 = svm_classifier.predict(X_test)"
   ]
  },
  {
   "cell_type": "code",
   "execution_count": 23,
   "id": "d8ace535",
   "metadata": {
    "execution": {
     "iopub.execute_input": "2024-04-22T21:44:16.277422Z",
     "iopub.status.busy": "2024-04-22T21:44:16.276574Z",
     "iopub.status.idle": "2024-04-22T21:44:16.280694Z",
     "shell.execute_reply": "2024-04-22T21:44:16.279896Z"
    },
    "papermill": {
     "duration": 0.399115,
     "end_time": "2024-04-22T21:44:16.282710",
     "exception": false,
     "start_time": "2024-04-22T21:44:15.883595",
     "status": "completed"
    },
    "tags": []
   },
   "outputs": [],
   "source": [
    "# # Train the classifier on the  data after ROS\n",
    "# # svm_classifier.fit(X_train_ros, y_train_ros)\n",
    "\n",
    "# y_pred_ros2 = svm_classifier.predict(X_test)"
   ]
  },
  {
   "cell_type": "code",
   "execution_count": 24,
   "id": "9611375a",
   "metadata": {
    "execution": {
     "iopub.execute_input": "2024-04-22T21:44:17.071535Z",
     "iopub.status.busy": "2024-04-22T21:44:17.071182Z",
     "iopub.status.idle": "2024-04-22T21:44:17.075254Z",
     "shell.execute_reply": "2024-04-22T21:44:17.074376Z"
    },
    "papermill": {
     "duration": 0.421687,
     "end_time": "2024-04-22T21:44:17.077255",
     "exception": false,
     "start_time": "2024-04-22T21:44:16.655568",
     "status": "completed"
    },
    "tags": []
   },
   "outputs": [],
   "source": [
    "# # Train the classifier on the  data after SMOTE\n",
    "# svm_classifier.fit(X_train_smote, y_train_smote)\n",
    "\n",
    "# y_pred_SMote2 = svm_classifier.predict(X_test)"
   ]
  },
  {
   "cell_type": "code",
   "execution_count": 25,
   "id": "cb486f8b",
   "metadata": {
    "execution": {
     "iopub.execute_input": "2024-04-22T21:44:17.828771Z",
     "iopub.status.busy": "2024-04-22T21:44:17.828387Z",
     "iopub.status.idle": "2024-04-22T21:44:17.832725Z",
     "shell.execute_reply": "2024-04-22T21:44:17.831803Z"
    },
    "papermill": {
     "duration": 0.384696,
     "end_time": "2024-04-22T21:44:17.834658",
     "exception": false,
     "start_time": "2024-04-22T21:44:17.449962",
     "status": "completed"
    },
    "tags": []
   },
   "outputs": [],
   "source": [
    "# evaluate_model(y_test, y_pred_orirginal2, \"original _SVM\")"
   ]
  },
  {
   "cell_type": "code",
   "execution_count": 26,
   "id": "7bb54618",
   "metadata": {
    "execution": {
     "iopub.execute_input": "2024-04-22T21:44:18.577833Z",
     "iopub.status.busy": "2024-04-22T21:44:18.577372Z",
     "iopub.status.idle": "2024-04-22T21:44:18.581460Z",
     "shell.execute_reply": "2024-04-22T21:44:18.580567Z"
    },
    "papermill": {
     "duration": 0.379758,
     "end_time": "2024-04-22T21:44:18.583321",
     "exception": false,
     "start_time": "2024-04-22T21:44:18.203563",
     "status": "completed"
    },
    "tags": []
   },
   "outputs": [],
   "source": [
    "# evaluate_model(y_test, y_pred_ros2, \"ROS_SVM\")"
   ]
  },
  {
   "cell_type": "code",
   "execution_count": 27,
   "id": "4d7d2dcd",
   "metadata": {
    "execution": {
     "iopub.execute_input": "2024-04-22T21:44:19.398445Z",
     "iopub.status.busy": "2024-04-22T21:44:19.398095Z",
     "iopub.status.idle": "2024-04-22T21:44:19.402176Z",
     "shell.execute_reply": "2024-04-22T21:44:19.401282Z"
    },
    "papermill": {
     "duration": 0.451333,
     "end_time": "2024-04-22T21:44:19.404029",
     "exception": false,
     "start_time": "2024-04-22T21:44:18.952696",
     "status": "completed"
    },
    "tags": []
   },
   "outputs": [],
   "source": [
    "# evaluate_model(y_test, y_pred_SMote2, \"SMOTE_SVM\")"
   ]
  },
  {
   "cell_type": "markdown",
   "id": "cb852dc2",
   "metadata": {
    "papermill": {
     "duration": 0.372776,
     "end_time": "2024-04-22T21:44:20.148654",
     "exception": false,
     "start_time": "2024-04-22T21:44:19.775878",
     "status": "completed"
    },
    "tags": []
   },
   "source": [
    "# logistic regression\n"
   ]
  },
  {
   "cell_type": "code",
   "execution_count": 28,
   "id": "53ae9793",
   "metadata": {
    "execution": {
     "iopub.execute_input": "2024-04-22T21:44:20.889680Z",
     "iopub.status.busy": "2024-04-22T21:44:20.889309Z",
     "iopub.status.idle": "2024-04-22T21:44:20.893779Z",
     "shell.execute_reply": "2024-04-22T21:44:20.892978Z"
    },
    "papermill": {
     "duration": 0.377712,
     "end_time": "2024-04-22T21:44:20.895579",
     "exception": false,
     "start_time": "2024-04-22T21:44:20.517867",
     "status": "completed"
    },
    "tags": []
   },
   "outputs": [],
   "source": [
    "from sklearn.linear_model import LogisticRegression\n",
    "\n",
    "log_reg = LogisticRegression(max_iter=1000)"
   ]
  },
  {
   "cell_type": "code",
   "execution_count": 29,
   "id": "63c83f68",
   "metadata": {
    "execution": {
     "iopub.execute_input": "2024-04-22T21:44:21.682366Z",
     "iopub.status.busy": "2024-04-22T21:44:21.682030Z",
     "iopub.status.idle": "2024-04-22T21:44:24.558744Z",
     "shell.execute_reply": "2024-04-22T21:44:24.557394Z"
    },
    "papermill": {
     "duration": 3.295675,
     "end_time": "2024-04-22T21:44:24.562617",
     "exception": false,
     "start_time": "2024-04-22T21:44:21.266942",
     "status": "completed"
    },
    "tags": []
   },
   "outputs": [],
   "source": [
    "# Train and evaluate the model on original data\n",
    "log_reg.fit(X_train, y_train)\n",
    "y_pred_log_reg_original = log_reg.predict(X_test)"
   ]
  },
  {
   "cell_type": "code",
   "execution_count": 30,
   "id": "dd153d4a",
   "metadata": {
    "execution": {
     "iopub.execute_input": "2024-04-22T21:44:25.373433Z",
     "iopub.status.busy": "2024-04-22T21:44:25.373077Z",
     "iopub.status.idle": "2024-04-22T21:44:31.122862Z",
     "shell.execute_reply": "2024-04-22T21:44:31.121465Z"
    },
    "papermill": {
     "duration": 6.125372,
     "end_time": "2024-04-22T21:44:31.126662",
     "exception": false,
     "start_time": "2024-04-22T21:44:25.001290",
     "status": "completed"
    },
    "tags": []
   },
   "outputs": [],
   "source": [
    "log_reg_ros = LogisticRegression(max_iter=1000)\n",
    "log_reg_ros.fit(X_train_ros, y_train_ros)\n",
    "y_pred_log_reg_ros = log_reg_ros.predict(X_test)"
   ]
  },
  {
   "cell_type": "code",
   "execution_count": 31,
   "id": "06475aac",
   "metadata": {
    "execution": {
     "iopub.execute_input": "2024-04-22T21:44:31.941648Z",
     "iopub.status.busy": "2024-04-22T21:44:31.941269Z",
     "iopub.status.idle": "2024-04-22T21:44:37.716331Z",
     "shell.execute_reply": "2024-04-22T21:44:37.714945Z"
    },
    "papermill": {
     "duration": 6.148704,
     "end_time": "2024-04-22T21:44:37.719804",
     "exception": false,
     "start_time": "2024-04-22T21:44:31.571100",
     "status": "completed"
    },
    "tags": []
   },
   "outputs": [],
   "source": [
    "# Train and evaluate the model after SMOTE\n",
    "log_reg_smote = LogisticRegression(max_iter=1000)\n",
    "log_reg_smote.fit(X_train_smote, y_train_smote)\n",
    "y_pred_log_reg_smote = log_reg_smote.predict(X_test)"
   ]
  },
  {
   "cell_type": "code",
   "execution_count": 32,
   "id": "15584816",
   "metadata": {
    "execution": {
     "iopub.execute_input": "2024-04-22T21:44:38.596272Z",
     "iopub.status.busy": "2024-04-22T21:44:38.595919Z",
     "iopub.status.idle": "2024-04-22T21:44:38.966024Z",
     "shell.execute_reply": "2024-04-22T21:44:38.965138Z"
    },
    "papermill": {
     "duration": 0.790608,
     "end_time": "2024-04-22T21:44:38.967996",
     "exception": false,
     "start_time": "2024-04-22T21:44:38.177388",
     "status": "completed"
    },
    "tags": []
   },
   "outputs": [
    {
     "name": "stdout",
     "output_type": "stream",
     "text": [
      "original_L_R Metrics:\n",
      "Accuracy: 0.9991222218320986\n",
      "Precision: 0.8636363636363636\n",
      "Recall: 0.5816326530612245\n",
      "F1-score: 0.6951219512195121\n"
     ]
    },
    {
     "data": {
      "image/png": "[encoded data removed]",
      "text/plain": [
       "<Figure size 800x600 with 2 Axes>"
      ]
     },
     "metadata": {},
     "output_type": "display_data"
    }
   ],
   "source": [
    " evaluate_model(y_test, y_pred_log_reg_original, \"original_L_R\")"
   ]
  },
  {
   "cell_type": "code",
   "execution_count": 33,
   "id": "00c4b194",
   "metadata": {
    "execution": {
     "iopub.execute_input": "2024-04-22T21:44:39.725161Z",
     "iopub.status.busy": "2024-04-22T21:44:39.724214Z",
     "iopub.status.idle": "2024-04-22T21:44:40.024965Z",
     "shell.execute_reply": "2024-04-22T21:44:40.024133Z"
    },
    "papermill": {
     "duration": 0.67544,
     "end_time": "2024-04-22T21:44:40.026788",
     "exception": false,
     "start_time": "2024-04-22T21:44:39.351348",
     "status": "completed"
    },
    "tags": []
   },
   "outputs": [
    {
     "name": "stdout",
     "output_type": "stream",
     "text": [
      "ROS_L_R Metrics:\n",
      "Accuracy: 0.9757206558758471\n",
      "Precision: 0.06143344709897611\n",
      "Recall: 0.9183673469387755\n",
      "F1-score: 0.11516314779270632\n"
     ]
    },
    {
     "data": {
      "image/png": "[encoded data removed]",
      "text/plain": [
       "<Figure size 800x600 with 2 Axes>"
      ]
     },
     "metadata": {},
     "output_type": "display_data"
    }
   ],
   "source": [
    "evaluate_model(y_test, y_pred_log_reg_ros, \"ROS_L_R\")"
   ]
  },
  {
   "cell_type": "code",
   "execution_count": 34,
   "id": "c6958fb7",
   "metadata": {
    "execution": {
     "iopub.execute_input": "2024-04-22T21:44:40.769750Z",
     "iopub.status.busy": "2024-04-22T21:44:40.769368Z",
     "iopub.status.idle": "2024-04-22T21:44:41.135649Z",
     "shell.execute_reply": "2024-04-22T21:44:41.134760Z"
    },
    "papermill": {
     "duration": 0.741132,
     "end_time": "2024-04-22T21:44:41.137618",
     "exception": false,
     "start_time": "2024-04-22T21:44:40.396486",
     "status": "completed"
    },
    "tags": []
   },
   "outputs": [
    {
     "name": "stdout",
     "output_type": "stream",
     "text": [
      "SMOTE_L_R Metrics:\n",
      "Accuracy: 0.9742459885537726\n",
      "Precision: 0.058102001291155586\n",
      "Recall: 0.9183673469387755\n",
      "F1-score: 0.1092896174863388\n"
     ]
    },
    {
     "data": {
      "image/png": "[encoded data removed]",
      "text/plain": [
       "<Figure size 800x600 with 2 Axes>"
      ]
     },
     "metadata": {},
     "output_type": "display_data"
    }
   ],
   "source": [
    "evaluate_model(y_test, y_pred_log_reg_smote, \"SMOTE_L_R\")"
   ]
  },
  {
   "cell_type": "code",
   "execution_count": null,
   "id": "84f92275",
   "metadata": {
    "papermill": {
     "duration": 0.373639,
     "end_time": "2024-04-22T21:44:41.884967",
     "exception": false,
     "start_time": "2024-04-22T21:44:41.511328",
     "status": "completed"
    },
    "tags": []
   },
   "outputs": [],
   "source": []
  }
 ],
 "metadata": {
  "kaggle": {
   "accelerator": "gpu",
   "dataSources": [
    {
     "datasetId": 310,
     "sourceId": 23498,
     "sourceType": "datasetVersion"
    }
   ],
   "dockerImageVersionId": 30683,
   "isGpuEnabled": true,
   "isInternetEnabled": true,
   "language": "python",
   "sourceType": "notebook"
  },
  "kernelspec": {
   "display_name": "Python 3",
   "language": "python",
   "name": "python3"
  },
  "language_info": {
   "codemirror_mode": {
    "name": "ipython",
    "version": 3
   },
   "file_extension": ".py",
   "mimetype": "text/x-python",
   "name": "python",
   "nbconvert_exporter": "python",
   "pygments_lexer": "ipython3",
   "version": "3.10.13"
  },
  "papermill": {
   "default_parameters": {},
   "duration": 353.587272,
   "end_time": "2024-04-22T21:44:44.722554",
   "environment_variables": {},
   "exception": null,
   "input_path": "__notebook__.ipynb",
   "output_path": "__notebook__.ipynb",
   "parameters": {},
   "start_time": "2024-04-22T21:38:51.135282",
   "version": "2.5.0"
  }
 },
 "nbformat": 4,
 "nbformat_minor": 5
}
